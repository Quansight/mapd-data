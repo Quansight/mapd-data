{
 "cells": [
  {
   "cell_type": "code",
   "execution_count": 26,
   "metadata": {},
   "outputs": [],
   "source": [
    "import pandas, IPython"
   ]
  },
  {
   "cell_type": "markdown",
   "metadata": {},
   "source": [
    "Use react devtools to find the redux store.  It is easier than going through the redux dev tools.\n",
    "\n",
    "    JSON.stringify($r.props.store.getState())"
   ]
  },
  {
   "cell_type": "markdown",
   "metadata": {},
   "source": [
    "Data scraped from the mapd demos."
   ]
  },
  {
   "cell_type": "code",
   "execution_count": 28,
   "metadata": {},
   "outputs": [],
   "source": [
    "demos = \"\"\"https://www.mapd.com/demos/nba nba.json\n",
    "https://www.mapd.com/demos/flights flights.json\n",
    "https://www.mapd.com/demos/political-donations donations.json\n",
    "https://www.mapd.com/demos/telecom telecom.json\n",
    "https://www.mapd.com/demos/taxis taxis.json\n",
    "https://www.mapd.com/demos/census census.json\n",
    "https://www.mapd.com/demos/ships ships.json\"\"\".splitlines()"
   ]
  },
  {
   "cell_type": "markdown",
   "metadata": {},
   "source": [
    "The data used to introspect the plot states was extracted from the following demos.  "
   ]
  },
  {
   "cell_type": "code",
   "execution_count": 30,
   "metadata": {},
   "outputs": [
    {
     "data": {
      "text/markdown": [
       "* https://www.mapd.com/demos/nba\n",
       "* https://www.mapd.com/demos/flights\n",
       "* https://www.mapd.com/demos/political-donations\n",
       "* https://www.mapd.com/demos/telecom\n",
       "* https://www.mapd.com/demos/taxis\n",
       "* https://www.mapd.com/demos/census\n",
       "* https://www.mapd.com/demos/ships"
      ],
      "text/plain": [
       "<IPython.core.display.Markdown object>"
      ]
     },
     "execution_count": 30,
     "metadata": {},
     "output_type": "execute_result"
    }
   ],
   "source": [
    "IPython.display.Markdown('\\n'.join(f'* {demo.split()[0]}' for demo in demos))"
   ]
  },
  {
   "cell_type": "markdown",
   "metadata": {},
   "source": [
    "React devtools to were used to get the redux store state."
   ]
  },
  {
   "cell_type": "code",
   "execution_count": 31,
   "metadata": {},
   "outputs": [],
   "source": [
    "df = pandas.concat({\n",
    "    line.split()[-1]: pandas.read_json(line.split()[-1], typ='Series') for line in demos\n",
    "}).unstack(-1)"
   ]
  },
  {
   "cell_type": "code",
   "execution_count": 33,
   "metadata": {},
   "outputs": [],
   "source": [
    "globals().update(dict(df))"
   ]
  }
 ],
 "metadata": {
  "kernelspec": {
   "display_name": "p6",
   "language": "python",
   "name": "other-env"
  },
  "language_info": {
   "codemirror_mode": {
    "name": "ipython",
    "version": 3
   },
   "file_extension": ".py",
   "mimetype": "text/x-python",
   "name": "python",
   "nbconvert_exporter": "python",
   "pygments_lexer": "ipython3",
   "version": "3.6.3"
  }
 },
 "nbformat": 4,
 "nbformat_minor": 2
}
